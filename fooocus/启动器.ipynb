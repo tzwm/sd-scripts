{
 "cells": [
  {
   "cell_type": "markdown",
   "id": "14c12258-91c5-4407-a38b-5440c20f6c6a",
   "metadata": {},
   "source": [
    "## Fooocus 镜像说明\n",
    "\n",
    "![](https://oss.talesofai.cn/public/s_2023-04-13%20at%2022.28.22.png?cc0429)\n",
    "- 启动和重启 webui 点上方工具栏中的「重启并运行所有单元格」。出现 `http://0.0.0.0:6006` 这个字样就算成功了。可以去 autodl 控制台打开「自定义服务」了\n",
    "- 模型位置在数据盘 /root/autodl-tmp/models 对应目录下，可以自行上传模型\n",
    "- 生成的文件在 /root/autodl-tmp/outputs 下\n",
    "\n",
    "## 有问题请联系\n",
    "\n",
    "- Email: autodl_share@tzwm.me\n",
    "- GitHub: https://github.com/tzwm/autodl-sd-webui\n",
    "- SD 微信交流讨论群: https://files.tzwm.me/images/sd/wxgroup.png\n",
    "\n",
    "## ChangeLog\n",
    "\n",
    "- 20241004 v1.7 (v9)\n",
    "  - 升级到 Fooocus v2.5.5。这是官方最后的 LTS 版本，主分支两个月没更新了\n",
    "  - 预置 checkpoint 更新成新的 preset 所使用的模型\n",
    "  - 预置一些新增的识别模型，比如 SAM\n",
    "- 20240120 v1.6 (v8)\n",
    "  - 升级到 Fooocus v2.1.862\n",
    "  - 新增 clip_vision 相关模型\n",
    "  - 移除 sdxl_base 和 sdxl_refiner 模型，增加初始化速度\n",
    "- 20231118 v1.5 (v7)\n",
    "  - 升级到 Fooocus v2.1.821\n",
    "  - 新增汉化，来源于 [SimpleSDXL](https://github.com/metercai/SimpleSDXL)\n",
    "  - 预置 Fooocus 新的默认 checkpoint 和 inpaint 模型\n",
    "  - 支持 LCM 加速\n",
    "- 20231014 v1.4 (v6)\n",
    "  - 升级到 Fooocus v2.1.60\n",
    "  - 支持 anime 和 realistic preset，可以在启动的时候选择\n",
    "  - 预置了 fooocus 官方的 anime 和 realistic 所有模型\n",
    "- 20231013 v1.3 (v5)\n",
    "  - 升级到最新的 Fooocus v2.1，支持 image prompt\n",
    "  - 修复 checkpoints 目录没法在 JupyterLab 里打开的问题\n",
    "- 20230922 v1.2 (v3)\n",
    "  - 升级到最新的 Fooocus，支持 inpaint，包含新的优化\n",
    "- 20230901 v1.1 (v2)\n",
    "  - 优化模型目录，调整到数据盘 autodl-tmp/models 下\n",
    "  - 优化了下启动脚本的网络问题\n",
    "- 20230820 v1.0 (v1)\n",
    "  - 基本环境安装"
   ]
  },
  {
   "cell_type": "code",
   "execution_count": null,
   "id": "057e5196-da7d-4fe6-ba06-e5f1d85609e5",
   "metadata": {},
   "outputs": [],
   "source": [
    "#初始化\n",
    "!bash /root/tzwm-autodl/fooocus/scripts/init.sh"
   ]
  },
  {
   "cell_type": "code",
   "execution_count": null,
   "id": "0e586049-b455-43e6-95d5-bda9af85e4f8",
   "metadata": {},
   "outputs": [],
   "source": [
    "#启动\n",
    "!bash /root/tzwm-autodl/fooocus/scripts/start.sh default"
   ]
  },
  {
   "cell_type": "markdown",
   "id": "724a7454-2898-41fa-a022-288001efe837",
   "metadata": {},
   "source": [
    "#### 相关链接\n",
    "- 我的 GitHub: https://github.com/tzwm\n",
    "- 我们官网：https://nieta.art/\n",
    "- B 站链接：https://space.bilibili.com/505727005\n",
    "- Civitai: https://civitai.com/user/nieta_art"
   ]
  }
 ],
 "metadata": {
  "kernelspec": {
   "display_name": "Python 3 (ipykernel)",
   "language": "python",
   "name": "python3"
  },
  "language_info": {
   "codemirror_mode": {
    "name": "ipython",
    "version": 3
   },
   "file_extension": ".py",
   "mimetype": "text/x-python",
   "name": "python",
   "nbconvert_exporter": "python",
   "pygments_lexer": "ipython3",
   "version": "3.10.0"
  }
 },
 "nbformat": 4,
 "nbformat_minor": 5
}
