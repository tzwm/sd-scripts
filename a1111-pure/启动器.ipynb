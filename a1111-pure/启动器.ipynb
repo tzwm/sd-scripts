{
 "cells": [
  {
   "cell_type": "markdown",
   "id": "61d904fe-155a-473f-8ab7-abb96f248f5d",
   "metadata": {
    "tags": []
   },
   "source": [
    "## 说明\n",
    "\n",
    "> 不想看下面文字就看视频说明，至少看一个吧，可以少些问题: https://www.bilibili.com/video/BV1yj411m7EH/\n",
    "\n",
    "![](https://oss.talesofai.cn/public/s_2023-04-13%20at%2022.28.22.png?cc0429)\n",
    "- 启动和重启 webui 点上方工具栏中的「重启并运行所有单元格」。出现 `http://0.0.0.0:6006` 这个字样就算成功了。可以去 autodl 控制台打开「自定义服务」了\n",
    "- 首次启动需要下载基本的模型，请稍等几分钟\n",
    "- 镜像在 4090, A5000, 3090, 3080 上测试没问题\n",
    "- 模型路径：`/root/autodl-tmp/models` 里的对应目录下\n",
    "  - 建议通过预置的「模型下载」插件直接下载 civitai 模型会比较快\n",
    "  - 也可以自己上传模型到上述目录\n",
    "![](https://files.tzwm.me/images/2024/05/20240505212440.webp)\n",
    "\n",
    "## 纯净版功能介绍\n",
    "\n",
    "- AUTOMATIC1111/stable-diffusion-webui \\[v1.9.3\\]\n",
    "- Python 3.10.6 + Torch 2.0.1 + cuda 11.8 + xformers 0.0.20\n",
    "- 预置 ControlNet 常用模型\n",
    "- 常用功能的 model 都已经下载好，包括各种 upscale、controlnet Preprocessor、CLIP 等\n",
    "- 包含常用的 VAE\n",
    "- 调整了 model 目录，用数据盘来存放各种 model 防止很快就空间不足\n",
    "- 配置了学术资源加速，可以自助安装插件等\n",
    "- 调整了默认配置，支持 multiple ControlNet、增加了 ControlNet 缓存 model 数量等\n",
    "- 只装了最基本的插件，没有环境污染，启动迅速、使用稳定\n",
    "\n",
    "## 有问题请联系\n",
    "\n",
    "- Email：autodl_share@tzwm.me\n",
    "- GitHub: https://github.com/tzwm/sd-scripts\n",
    "- SD 微信交流讨论群：https://files.tzwm.me/images/sd/wxgroup.png\n",
    "\n",
    "\n",
    "## ChangeLog\n",
    "\n",
    "- 2024-05-05 v6\n",
    "  - 更新 webui 本体和所有插件\n",
    "  - 新增一个预置 SDXL checkpoint\n",
    "  - 新增 PuLID 相关模型和预处理器等\n",
    "- 2024-01-28 v5\n",
    "  - 更新 webui 本体和所有插件\n",
    "  - 新增 IP Adapter FaceID 相关模型\n",
    "  - 调整了一下预置的模型，换了 checkpoint，优化了 VAE，精简了 ControlNet\n",
    "- 2023-10-21 v4\n",
    "  - 更新 ControlNet 等插件\n",
    "  - 新增 tagcomplete、StyleSelectorXL 我觉得比较必要的插件\n",
    "  - 更新中英双语的插件\n",
    "  - 修复 SDXL 模型路径问题\n",
    "  - 优化了初始化脚本和启动脚本\n",
    "- 2023-09-01 v3\n",
    "  - 更新 webui 到 v1.6.0\n",
    "  - 更新 ControlNet 等插件\n",
    "  - ImageBrowser 改成了 infinite-image-browsing\n",
    "  - 装了下 TCMalloc\n",
    "  - 优化了初始化脚本\n",
    "- 2023-07-04 v2\n",
    "  - 更新了下插件\n",
    "  - 补了 Image Browser 和 lycoris 这两个基本插件\n",
    "- 2023-06-28 v1\n",
    "  - 基本环境和配置弄好，干净"
   ]
  },
  {
   "cell_type": "code",
   "execution_count": null,
   "id": "d09e6df8-aea3-46ad-8f3f-3b5670fbdbcd",
   "metadata": {},
   "outputs": [],
   "source": [
    "# 初始化\n",
    "!bash /root/tzwm-autodl-sd-webui/common/scripts/init-download.sh checkpoint_sd15\n",
    "!bash /root/tzwm-autodl-sd-webui/common/scripts/init-download.sh checkpoint_sdxl\n",
    "!bash /root/tzwm-autodl-sd-webui/common/scripts/init-download.sh vae\n",
    "!bash /root/tzwm-autodl-sd-webui/common/scripts/init-download.sh lora\n",
    "!bash /root/tzwm-autodl-sd-webui/common/scripts/init-download.sh embeddings\n",
    "!bash /root/tzwm-autodl-sd-webui/common/scripts/init-download.sh controlnet_sd15_v1_1_full\n",
    "#!bash /root/tzwm-autodl-sd-webui/common/scripts/init-download.sh controlnet_sd15_v1_1_400\n",
    "#!bash /root/tzwm-autodl-sd-webui/common/scripts/init-download.sh controlnet_sdxl_v1_1_400\n",
    "#!bash /root/tzwm-autodl-sd-webui/common/scripts/init-download.sh controlnet_sd15_others\n",
    "!bash /root/tzwm-autodl-sd-webui/common/scripts/init-download.sh lycoris\n",
    "!bash /root/tzwm-autodl-sd-webui/common/scripts/init-download.sh controlnet_annotator\n",
    "!bash /root/tzwm-autodl-sd-webui/common/scripts/init-download.sh ip_adapter\n",
    "!bash /root/tzwm-autodl-sd-webui/common/scripts/init-download.sh ip_adapter_faceid_models\n",
    "!bash /root/tzwm-autodl-sd-webui/common/scripts/init-download.sh ip_adapter_faceid_lora\n",
    "!bash /root/tzwm-autodl-sd-webui/common/scripts/init-download.sh cache\n",
    "!echo \"初始化完成\""
   ]
  },
  {
   "cell_type": "code",
   "execution_count": null,
   "id": "e1bccb7d-b567-4652-9b44-bd8864531885",
   "metadata": {
    "tags": []
   },
   "outputs": [],
   "source": [
    "# 启动\n",
    "!source /root/tzwm-autodl-sd-webui/common/scripts/init-proxy.sh global && \\\n",
    "bash /root/tzwm-autodl-sd-webui/a1111-pure/scripts/restart-webui.sh"
   ]
  }
 ],
 "metadata": {
  "kernelspec": {
   "display_name": "Python 3 (ipykernel)",
   "language": "python",
   "name": "python3"
  },
  "language_info": {
   "codemirror_mode": {
    "name": "ipython",
    "version": 3
   },
   "file_extension": ".py",
   "mimetype": "text/x-python",
   "name": "python",
   "nbconvert_exporter": "python",
   "pygments_lexer": "ipython3",
   "version": "3.10.6"
  }
 },
 "nbformat": 4,
 "nbformat_minor": 5
}
