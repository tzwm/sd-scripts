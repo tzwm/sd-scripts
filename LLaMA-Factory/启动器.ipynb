{
 "cells": [
  {
   "cell_type": "markdown",
   "id": "03be05da-05f2-42e1-bae6-beddc7c27ed8",
   "metadata": {},
   "source": [
    "## 说明\n",
    "\n",
    "![](https://oss.talesofai.cn/public/s_2023-04-13%20at%2022.28.22.png?cc0429)\n",
    "- 启动和重启 LLaMA Factory 点上方工具栏中的「重启并运行所有单元格」。出现 `http://0.0.0.0:6006` 这个字样就算成功了。可以去 autodl 控制台打开「自定义服务」了\n",
    "- 模型路径：`/root/autodl-tmp/models` 里的对应目录下\n",
    "- fine-tuning 后保存的模型路径：`/root/ComfyUI/saves`\n",
    "\n",
    "## 功能介绍\n",
    "\n",
    "- LLaMA Factory 20250419 最新版本\n",
    "- 预置 SGLang 0.4.5.post1 版本\n",
    "- 预置 Qwen 2.5 7B 模型\n",
    "- 预置 sglang-router\n",
    "- 调整了 model 目录，用数据盘来存放各种 model 防止很快就空间不足\n",
    "\n",
    "## 有问题请联系\n",
    "\n",
    "- Email: autodl_share@tzwm.me\n",
    "- GitHub: https://github.com/tzwm/sd-scripts\n",
    "\n",
    "## ChangeLog\n",
    "\n",
    "- 20250419 v1\n",
    "  - LLaMA Factory 和 SGLang 基本环境搞定\n",
    "  - 预置 Qwen 2.5 7B"
   ]
  },
  {
   "cell_type": "code",
   "execution_count": null,
   "id": "ab3ce549-65f3-4804-896c-3c9905704302",
   "metadata": {},
   "outputs": [],
   "source": [
    "!bash /root/start_webui.sh"
   ]
  }
 ],
 "metadata": {
  "kernelspec": {
   "display_name": "Python 3 (ipykernel)",
   "language": "python",
   "name": "python3"
  },
  "language_info": {
   "codemirror_mode": {
    "name": "ipython",
    "version": 3
   },
   "file_extension": ".py",
   "mimetype": "text/x-python",
   "name": "python",
   "nbconvert_exporter": "python",
   "pygments_lexer": "ipython3",
   "version": "3.11.11"
  }
 },
 "nbformat": 4,
 "nbformat_minor": 5
}
